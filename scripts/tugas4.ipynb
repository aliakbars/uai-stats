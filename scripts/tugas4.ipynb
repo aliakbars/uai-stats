{
 "cells": [
  {
   "cell_type": "markdown",
   "metadata": {},
   "source": [
    "# Pengantar Statistika\n",
    "\n",
    "## Tugas 4: Distribusi Kontinu & Maximum Likelihood Estimation\n",
    "\n",
    "### Mekanisme\n",
    "\n",
    "Anda hanya diwajibkan untuk mengumpulkan file ini saja ke uploader yang disediakan di http://elearning2.uai.ac.id/. Ganti nama file ini saat pengumpulan menjadi **tugas4_NIM.ipynb**.\n",
    "\n",
    "**Keterlambatan**: Pengumpulan tugas yang melebihi tenggat yang telah ditentukan tidak akan diterima. Keterlambatan akan berakibat pada nilai nol untuk tugas ini.\n",
    "\n",
    "**Kolaborasi**: Anda diperbolehkan untuk berdiskusi dengan teman Anda, tetapi dilarang keras menyalin kode maupun tulisan dari teman Anda.\n",
    "\n",
    "### Petunjuk\n",
    "\n",
    "Terdapat beberapa pustaka yang Anda akan gunakan dalam mengerjakan tugas ini, yaitu:\n",
    "\n",
    "- matplotlib\n",
    "- numpy\n",
    "- scipy\n",
    "\n",
    "Anda diperbolehkan (jika dirasa perlu) untuk mengimpor modul tambahan untuk tugas ini, kecuali dijelaskan sebaliknya. Namun, seharusnya modul yang tersedia sudah cukup untuk memenuhi kebutuhan Anda.\n",
    "\n",
    "Pastikan jawaban Anda singkat, padat, dan jelas. Mayoritas pertanyaan yang diberikan dapat dijawab dalam 3-4 kalimat saja.\n",
    "\n",
    "Untuk membantu menulis jawaban dalam bentuk formula $\\LaTeX$, Anda dapat menggunakan [tautan ini](https://www.codecogs.com/latex/eqneditor.php).\n",
    "\n",
    "Sebagai referensi untuk penggunaan Jupyter Notebook dan berbagai pustaka dalam Python, Anda dapat melihat referensi [ini](http://cs231n.github.io/python-numpy-tutorial/) dan [ini](https://nbviewer.jupyter.org/github/jupyter/notebook/tree/master/docs/source/examples/Notebook/)."
   ]
  },
  {
   "cell_type": "markdown",
   "metadata": {},
   "source": [
    "**Nilai akhir: XX/25**"
   ]
  },
  {
   "cell_type": "code",
   "execution_count": null,
   "metadata": {},
   "outputs": [],
   "source": [
    "from IPython.display import display, HTML\n",
    "import matplotlib.pyplot as plt\n",
    "import numpy as np\n",
    "import pandas as pd\n",
    "\n",
    "%matplotlib inline"
   ]
  },
  {
   "cell_type": "code",
   "execution_count": null,
   "metadata": {},
   "outputs": [],
   "source": [
    "plt.rcParams['figure.figsize'] = (12,7)\n",
    "plt.style.use('bmh')"
   ]
  },
  {
   "cell_type": "markdown",
   "metadata": {},
   "source": [
    "## 1. Ujian CPNS (5 poin)\n",
    "\n",
    "Dari 16,384 peserta ujian saringan awal CPNS, nilai rata-rata dari semua peserta adalah 58 dengan standar deviasi 12. Nilai maksimal yang dapat dicapai dari ujian tersebut adalah 100."
   ]
  },
  {
   "cell_type": "markdown",
   "metadata": {},
   "source": [
    "### Soal 1.a (3 poin)\n",
    "\n",
    "Asumsikan bahwa nilai ujian terdistribusi normal. Gambarkan [kurva PDF](https://stackoverflow.com/questions/10138085/python-pylab-plot-normal-distribution) dari distribusi tersebut."
   ]
  },
  {
   "cell_type": "code",
   "execution_count": null,
   "metadata": {},
   "outputs": [],
   "source": [
    "from scipy.stats import norm\n",
    "\n",
    "# Kode Anda di sini"
   ]
  },
  {
   "cell_type": "markdown",
   "metadata": {},
   "source": [
    "### Soal 1.b (2 poin)\n",
    "\n",
    "Jika nilai yang Anda dapatkan adalah 67 dan peserta ujian yang akan lolos ke tahap selanjutnya adalah 20% peserta dengan nilai tertinggi, apakah Anda termasuk yang lolos? Tunjukkan perhitungan Anda."
   ]
  },
  {
   "cell_type": "code",
   "execution_count": null,
   "metadata": {},
   "outputs": [],
   "source": [
    "print('Nilai ujian tersebut termasuk di persentil {:.0f}.'.format(\n",
    "    # Kode Anda di sini\n",
    "))"
   ]
  },
  {
   "cell_type": "markdown",
   "metadata": {},
   "source": [
    "*Jawaban Anda di sini*"
   ]
  },
  {
   "cell_type": "markdown",
   "metadata": {},
   "source": [
    "## 2. Data Tuberkulosis (20 poin)\n",
    "\n",
    "Untuk bagian ini, Anda perlu untuk mempelajari cara menggunakan pustaka [Pandas](https://jakevdp.github.io/PythonDataScienceHandbook/03.00-introduction-to-pandas.html)."
   ]
  },
  {
   "cell_type": "code",
   "execution_count": null,
   "metadata": {},
   "outputs": [],
   "source": [
    "df = pd.read_csv('https://raw.githubusercontent.com/aliakbars/uai-stats/master/datasets/people.csv')\n",
    "df['status'] = (df['status'] == 'MTB Pos').astype('int')"
   ]
  },
  {
   "cell_type": "markdown",
   "metadata": {},
   "source": [
    "### Soal 2.1 (2 poin)\n",
    "\n",
    "Jika kita mengasumsikan bahwa variabel tinggi badan (`height`) mengikuti distribusi normal dengan parameter $\\mu$ dan $\\sigma^2$, i.e.\n",
    "$$\n",
    "height \\sim \\mathcal{N}(\\mu, \\sigma^2)\n",
    "$$\n",
    "Berapakah nilai yang *paling mungkin* untuk $\\mu$ dan $\\sigma^2$?"
   ]
  },
  {
   "cell_type": "code",
   "execution_count": null,
   "metadata": {},
   "outputs": [],
   "source": [
    "# Kode Anda di sini"
   ]
  },
  {
   "cell_type": "markdown",
   "metadata": {},
   "source": [
    "### Soal 2.2 (3 poin)\n",
    "\n",
    "Gambarkan [histogram](https://jakevdp.github.io/PythonDataScienceHandbook/04.05-histograms-and-binnings.html) dari tinggi badan. Gambarkan juga kurva PDF dari distribusi normal dengan parameter yang Anda temukan di soal 2.1. Untuk histogram yang Anda buat, atur agar parameter `density=True`."
   ]
  },
  {
   "cell_type": "code",
   "execution_count": null,
   "metadata": {},
   "outputs": [],
   "source": [
    "mu = # Kode Anda di sini\n",
    "sigma = # Kode Anda di sini\n",
    "# Kode Anda di sini"
   ]
  },
  {
   "cell_type": "markdown",
   "metadata": {},
   "source": [
    "### Soal 2.3 (2 poin)\n",
    "\n",
    "Apakah menurut Anda distribusi normal cocok untuk menggambarkan variabel tinggi badan? Salah satu cara untuk memastikan hal tersebut adalah dengan menghitung nilai **log likelihood**. Log likelihood didefinisikan sebagai\n",
    "$$\n",
    "\\mathcal{L}(\\theta) = \\sum_{i=1}^N \\log p(x_i|\\theta)\n",
    "$$\n",
    "Implementasikan kode untuk menghitung nilai log likelihood dari data tinggi badan dengan parameter distribusi normal seperti pada soal 2.1. Sebagai bantuan, telah disediakan kode untuk memastikan hitungan Anda sesuai dengan implementasi dari [SciPy](https://docs.scipy.org/doc/scipy/reference/generated/scipy.stats.norm.html)."
   ]
  },
  {
   "cell_type": "code",
   "execution_count": null,
   "metadata": {},
   "outputs": [],
   "source": [
    "loglikelihood = # Kode Anda di sini\n",
    "display(HTML('$\\mathcal L(\\\\theta) = {:.2f}$'.format(\n",
    "    loglikelihood\n",
    ")))\n",
    "np.testing.assert_almost_equal(\n",
    "    -norm.nnlf((mu, sigma), df['height']),\n",
    "    loglikelihood\n",
    ")"
   ]
  },
  {
   "cell_type": "markdown",
   "metadata": {},
   "source": [
    "### Soal 2.4 (3 poin)\n",
    "\n",
    "Gambarkan [scatter plot](https://matplotlib.org/3.1.0/gallery/shapes_and_collections/scatter.html) untuk `height` dan `weight`. Jangan lupa untuk memberi label pada sumbu-sumbunya."
   ]
  },
  {
   "cell_type": "code",
   "execution_count": null,
   "metadata": {},
   "outputs": [],
   "source": [
    "# Kode Anda di sini"
   ]
  },
  {
   "cell_type": "markdown",
   "metadata": {},
   "source": [
    "### Soal 2.5.a (1 poin)\n",
    "\n",
    "Jika Anda berhasil menggambar dengan benar, Anda akan melihat bahwa `height` dan `weight` terlihat beriringan naik. Hitunglah nilai korelasi dari `height` dan `weight`."
   ]
  },
  {
   "cell_type": "code",
   "execution_count": null,
   "metadata": {},
   "outputs": [],
   "source": [
    "# Kode Anda di sini"
   ]
  },
  {
   "cell_type": "markdown",
   "metadata": {},
   "source": [
    "### Soal 2.5.b (1 poin)\n",
    "\n",
    "Hitung juga matriks kovariansi dari `height` dan `weight`."
   ]
  },
  {
   "cell_type": "code",
   "execution_count": null,
   "metadata": {},
   "outputs": [],
   "source": [
    "# Kode Anda di sini"
   ]
  },
  {
   "cell_type": "markdown",
   "metadata": {},
   "source": [
    "### Soal 2.5.c (3 poin)\n",
    "\n",
    "Jika Anda mengasumsikan bahwa `height` dan `weight` adalah dua peubah acak yang mengikuti distribusi [multivariat normal](https://docs.scipy.org/doc/scipy-1.3.0/reference/generated/scipy.stats.multivariate_normal.html#scipy.stats.multivariate_normal), hitunglah peluang menemukan orang dengan `height ≤ 160` dan `weight ≤ 60`."
   ]
  },
  {
   "cell_type": "code",
   "execution_count": null,
   "metadata": {},
   "outputs": [],
   "source": [
    "from scipy.stats import multivariate_normal as mvn\n",
    "\n",
    "# Kode Anda di sini\n",
    "\n",
    "display(HTML(\n",
    "    '$p(height \\leq 160, weight \\leq 60) = {:.4f}$'.format(\n",
    "        # Kode Anda di sini\n",
    "    )\n",
    "))"
   ]
  },
  {
   "cell_type": "markdown",
   "metadata": {},
   "source": [
    "### Soal 2.6.a (2 poin)\n",
    "\n",
    "Asumsikan bahwa variabel penyakit TB mengikuti distribusi Bernoulli. Dengan kata lain,\n",
    "\n",
    "$$\n",
    "X \\sim Bernoulli(\\theta)\n",
    "$$\n",
    "\n",
    "dan\n",
    "\n",
    "$$\n",
    "p(X) = \\begin{cases}\n",
    "\\theta & \\text{jika}~X = 1 \\\\\n",
    "1-\\theta & \\text{jika}~X = 0\n",
    "\\end{cases}\n",
    "$$\n",
    "\n",
    "Berapa nilai parameter distribusi tersebut yang akan memaksimalkan nilai likelihood-nya?"
   ]
  },
  {
   "cell_type": "code",
   "execution_count": null,
   "metadata": {},
   "outputs": [],
   "source": [
    "display(HTML('$\\hat \\\\theta = {}$'.format(\n",
    "    # Kode Anda di sini\n",
    ")))"
   ]
  },
  {
   "cell_type": "markdown",
   "metadata": {},
   "source": [
    "### Soal 2.6.b (3 poin)\n",
    "\n",
    "Gambarkan nilai **log likelihood** jika parameter distribusi Bernoulli Anda variasikan dari 0 sampai 1. Anda dapat menggunakan fungsi `np.linspace` untuk ini."
   ]
  },
  {
   "cell_type": "code",
   "execution_count": null,
   "metadata": {},
   "outputs": [],
   "source": [
    "from scipy.stats import bernoulli\n",
    "\n",
    "# Kode Anda di sini"
   ]
  },
  {
   "cell_type": "markdown",
   "metadata": {},
   "source": [
    "## 3. Bonus (5 poin)\n",
    "\n",
    "Gambarkan density plot dari MLE untuk distribusi multivariat normal dengan peubah acak `height` dan `weight`."
   ]
  },
  {
   "cell_type": "code",
   "execution_count": null,
   "metadata": {},
   "outputs": [],
   "source": [
    "# Kode Anda di sini"
   ]
  }
 ],
 "metadata": {
  "kernelspec": {
   "display_name": "Python 3",
   "language": "python",
   "name": "python3"
  },
  "language_info": {
   "codemirror_mode": {
    "name": "ipython",
    "version": 3
   },
   "file_extension": ".py",
   "mimetype": "text/x-python",
   "name": "python",
   "nbconvert_exporter": "python",
   "pygments_lexer": "ipython3",
   "version": "3.6.7"
  }
 },
 "nbformat": 4,
 "nbformat_minor": 2
}
