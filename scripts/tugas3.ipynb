{
 "cells": [
  {
   "cell_type": "markdown",
   "metadata": {},
   "source": [
    "# Pengantar Statistika\n",
    "\n",
    "## Tugas 3: Distribusi Diskrit\n",
    "\n",
    "### Mekanisme\n",
    "\n",
    "Anda hanya diwajibkan untuk mengumpulkan file ini saja ke uploader yang disediakan di http://elearning2.uai.ac.id/. Ganti nama file ini saat pengumpulan menjadi **tugas3_NIM.ipynb**.\n",
    "\n",
    "**Keterlambatan**: Pengumpulan tugas yang melebihi tenggat yang telah ditentukan tidak akan diterima. Keterlambatan akan berakibat pada nilai nol untuk tugas ini.\n",
    "\n",
    "**Kolaborasi**: Anda diperbolehkan untuk berdiskusi dengan teman Anda, tetapi dilarang keras menyalin kode maupun tulisan dari teman Anda.\n",
    "\n",
    "### Petunjuk\n",
    "\n",
    "Terdapat beberapa pustaka yang Anda akan gunakan dalam mengerjakan tugas ini, yaitu:\n",
    "\n",
    "- matplotlib\n",
    "- numpy\n",
    "- scipy\n",
    "\n",
    "Anda diperbolehkan (jika dirasa perlu) untuk mengimpor modul tambahan untuk tugas ini, kecuali dijelaskan sebaliknya. Namun, seharusnya modul yang tersedia sudah cukup untuk memenuhi kebutuhan Anda.\n",
    "\n",
    "Pastikan jawaban Anda singkat, padat, dan jelas. Mayoritas pertanyaan yang diberikan dapat dijawab dalam 3-4 kalimat saja.\n",
    "\n",
    "Untuk membantu menulis jawaban dalam bentuk formula $\\LaTeX$, Anda dapat menggunakan [tautan ini](https://www.codecogs.com/latex/eqneditor.php).\n",
    "\n",
    "Sebagai referensi untuk penggunaan Jupyter Notebook dan berbagai pustaka dalam Python, Anda dapat melihat referensi [ini](http://cs231n.github.io/python-numpy-tutorial/) dan [ini](https://nbviewer.jupyter.org/github/jupyter/notebook/tree/master/docs/source/examples/Notebook/).\n",
    "\n",
    "### Ucapan Terima Kasih\n",
    "\n",
    "Sebagian dari soal dalam tugas ini diadaptasi dari [Problem Set #3](http://web.stanford.edu/class/archive/cs/cs109/cs109.1178/pdfs/080-problem-set-3.pdf) Stanford CS109."
   ]
  },
  {
   "cell_type": "markdown",
   "metadata": {},
   "source": [
    "**Nilai akhir: XX/30**"
   ]
  },
  {
   "cell_type": "code",
   "execution_count": null,
   "metadata": {},
   "outputs": [],
   "source": [
    "import matplotlib.pyplot as plt\n",
    "import numpy as np\n",
    "import pandas as pd\n",
    "\n",
    "%matplotlib inline"
   ]
  },
  {
   "cell_type": "code",
   "execution_count": null,
   "metadata": {},
   "outputs": [],
   "source": [
    "plt.rcParams['figure.figsize'] = (12,7)\n",
    "plt.style.use('bmh')"
   ]
  },
  {
   "cell_type": "markdown",
   "metadata": {},
   "source": [
    "## 1. Lemparan Koin (5 poin)\n",
    "\n",
    "Anda diberikan koin yang bias dengan peluang munculnya angka adalah 0.55, i.e. $X \\sim Bernoulli(0.55)$."
   ]
  },
  {
   "cell_type": "markdown",
   "metadata": {},
   "source": [
    "### Soal 1.a (2 poin)\n",
    "\n",
    "Simulasikan 2000 kali lemparan koin dengan `bernoulli.rvs()` [(dokumentasi)](https://docs.scipy.org/doc/scipy/reference/generated/scipy.stats.bernoulli.html). Simpanlah dalam variabel `x`."
   ]
  },
  {
   "cell_type": "code",
   "execution_count": null,
   "metadata": {},
   "outputs": [],
   "source": [
    "from scipy.stats import bernoulli\n",
    "\n",
    "np.random.seed(42)\n",
    "\n",
    "# Jawaban Anda di sini"
   ]
  },
  {
   "cell_type": "markdown",
   "metadata": {},
   "source": [
    "### Soal 1.b (3 poin)\n",
    "\n",
    "Hitunglah nilai rata-rata kemunculan 1 dan 0 setelah 1 lemparan, 2 lemparan, ..., hingga 2000 lemparan.\n",
    "\n",
    "Contoh: Hasil dari 4 lemparan adalah 1 0 1 1. Maka, nilai rata-rata yang Anda dapatkan adalah\n",
    "\n",
    "- Lemparan 1: $\\bar{x}_1 = \\frac{1}{1} = 1$ dan $\\bar{x}_0 = \\frac{0}{1} = 1 - 1 = 0$,\n",
    "- Lemparan 2: $\\bar{x}_1 = \\frac{1+0}{2} = 0.5$ dan $\\bar{x}_0 = \\frac{0+1}{2} = 1 - 0.5 = 0.5$,\n",
    "- Lemparan 3: $\\bar{x}_1 = \\frac{1+0+1}{3} = 0.67$ dan $\\bar{x}_0 = 1 - 0.67 = 0.33$,\n",
    "- Lemparan 4: $\\bar{x}_1 = \\frac{1+0+1+1}{4} = 0.75$ dan $\\bar{x}_0 = 1 - 0.75 = 0.25$.\n",
    "\n",
    "Gambarkan perubahan nilai $\\bar{x}$ tersebut dalam diagram garis (petunjuk: akan ada dua garis). Apa yang dapat Anda amati?"
   ]
  },
  {
   "cell_type": "code",
   "execution_count": null,
   "metadata": {},
   "outputs": [],
   "source": [
    "# Jawaban Anda di sini\n",
    "plt.axhline(0.55, linestyle='--')\n",
    "plt.xlabel('jumlah lemparan')\n",
    "plt.ylabel('$\\\\bar{x}$');"
   ]
  },
  {
   "cell_type": "markdown",
   "metadata": {},
   "source": [
    "*Jawaban Anda di sini*"
   ]
  },
  {
   "cell_type": "markdown",
   "metadata": {},
   "source": [
    "## 2. Simulasi Pemilu (10 poin)\n",
    "\n",
    "Dalam sebuah pemilihan umum (pemilu), terdapat dua pasang kandidat yang dapat dipilih. Dari hasil survey, didapatkan bahwa kandidat A memenangkan 51% suara dan kandidat B memenangkan 49% suara."
   ]
  },
  {
   "cell_type": "markdown",
   "metadata": {},
   "source": [
    "### Soal 2.a (3 poin)\n",
    "\n",
    "Asumsikan bahwa akan ada 5000 daftar pemilih tetap (DPT) dalam pemilu tersebut dan setiap pemilih akan memilih secara acak dan independen dengan mengikuti probabilitas seperti hasil survei, yaitu 0.51 akan memilih A dan 0.49 akan memilih B. Tuliskan formula yang dapat menghitung probabilitas bahwa A akan memenangkan pemilu, i.e. mendapatkan lebih dari $N/2 = 2500$ suara.\n",
    "\n",
    "*Petunjuk: Anda mungkin akan memerlukan fungsi **summation**.*"
   ]
  },
  {
   "cell_type": "markdown",
   "metadata": {},
   "source": [
    "*Jawaban Anda di sini*"
   ]
  },
  {
   "cell_type": "markdown",
   "metadata": {},
   "source": [
    "### Soal 2.b (2 poin)\n",
    "\n",
    "Hitunglah nilai dari probabilitas soal 2.a dengan menggunakan kode Python. Gunakan [`scipy.stats`](https://docs.scipy.org/doc/scipy/reference/generated/scipy.stats.binom.html) untuk mengerjakannya."
   ]
  },
  {
   "cell_type": "code",
   "execution_count": null,
   "metadata": {},
   "outputs": [],
   "source": [
    "from scipy.stats import binom\n",
    "\n",
    "# Jawaban Anda di sini\n",
    "print('p(...) = {:.2%}'.format(\n",
    "    # Jawaban Anda di sini\n",
    "))"
   ]
  },
  {
   "cell_type": "markdown",
   "metadata": {},
   "source": [
    "*Hasil akhir: 0.9193*"
   ]
  },
  {
   "cell_type": "markdown",
   "metadata": {},
   "source": [
    "### Soal 2.c (2 poin)\n",
    "\n",
    "Hitunglah nilai dari probabilitas soal 2.a, tapi kali ini dengan menggunakan hampiran distribusi Poisson. Apakah Poisson adalah hampiran yang bagus dalam kasus ini? Mengapa?"
   ]
  },
  {
   "cell_type": "code",
   "execution_count": null,
   "metadata": {},
   "outputs": [],
   "source": [
    "from scipy.stats import poisson\n",
    "\n",
    "print('p(...) = {:.2%}'.format(\n",
    "    # Jawaban Anda di sini\n",
    "))"
   ]
  },
  {
   "cell_type": "markdown",
   "metadata": {},
   "source": [
    "*Jawaban Anda di sini*"
   ]
  },
  {
   "cell_type": "markdown",
   "metadata": {},
   "source": [
    "### Soal 2.d (3 poin)\n",
    "\n",
    "Untuk dapat melihat perbandingan soal 2.b dan 2.c dengan lebih jelas, coba gambarkan distribusi Binomial dan Poisson untuk menyelesaikan kasus tersebut. Periksa untuk nilai $2400 \\leq X \\leq 2700$."
   ]
  },
  {
   "cell_type": "code",
   "execution_count": null,
   "metadata": {},
   "outputs": [],
   "source": [
    "k = np.arange(2400, 2700)\n",
    "# Jawaban Anda di sini"
   ]
  },
  {
   "cell_type": "markdown",
   "metadata": {},
   "source": [
    "## 3. Bugs! (15 poin)\n",
    "\n",
    "Di suatu pusat data dengan 100 server, tiap *request* dialokasikan ke tiap server secara acak dengan peluang yang sama. Berdasarkan catatan, setiap server akan mendapatkan request sebanyak 2 per detik. Perusahaan yang menggunakan pusat data tersebut baru saja merilis kode ke semua server yang menyebabkan server akan *crash* jika mendapatkan lebih dari 6 requests per detik."
   ]
  },
  {
   "cell_type": "markdown",
   "metadata": {},
   "source": [
    "### Soal 3.a (2 poin)\n",
    "\n",
    "Jika kita melihat satu server dan server lainya bekerja secara independen. Modelkan cara untuk menghitung peluang suatu server akan *crash*."
   ]
  },
  {
   "cell_type": "markdown",
   "metadata": {},
   "source": [
    "*Jawaban Anda di sini*"
   ]
  },
  {
   "cell_type": "markdown",
   "metadata": {},
   "source": [
    "### Soal 3.b (4 poin)\n",
    "\n",
    "Hitunglah nilai probabilitas dari soal 3.a dengan menggunakan `scipy.stats.poisson`. Hitunglah dengan menggunakan penjumlahan iteratif (sum of PMF) atau menggunakan `scipy.stats.poisson.cdf`."
   ]
  },
  {
   "cell_type": "code",
   "execution_count": null,
   "metadata": {},
   "outputs": [],
   "source": [
    "from scipy.stats import poisson\n",
    "\n",
    "print('p(...) = {:.2%}'.format(\n",
    "    # Jawaban Anda di sini\n",
    "))\n",
    "\n",
    "# Jawaban Anda di sini\n",
    "print('p(...) = {:.2%}'.format(\n",
    "    # Jawaban Anda di sini\n",
    "))"
   ]
  },
  {
   "cell_type": "markdown",
   "metadata": {},
   "source": [
    "### Soal 3.c (2 poin)\n",
    "\n",
    "Gambarkan grafik PMF dari distribusi tersebut."
   ]
  },
  {
   "cell_type": "code",
   "execution_count": null,
   "metadata": {},
   "outputs": [],
   "source": [
    "x = np.arange(11)\n",
    "# Jawaban Anda di sini\n",
    "plt.xlabel('X')\n",
    "plt.ylabel('p(X)');"
   ]
  },
  {
   "cell_type": "markdown",
   "metadata": {},
   "source": [
    "### Soal 3.d (4 poin)\n",
    "\n",
    "Berapa peluangnya bahwa tidak ada server yang akan *crash*? Tunjukkan formulanya, lalu hitung dengan menggunakan `scipy.stats.poisson`."
   ]
  },
  {
   "cell_type": "markdown",
   "metadata": {},
   "source": [
    "*Jawaban Anda di sini*"
   ]
  },
  {
   "cell_type": "code",
   "execution_count": null,
   "metadata": {},
   "outputs": [],
   "source": [
    "print('p(...) = {:.2%}'.format(\n",
    "    # Jawaban Anda di sini\n",
    "))"
   ]
  },
  {
   "cell_type": "markdown",
   "metadata": {},
   "source": [
    "*Hasil akhir: 0.6348*"
   ]
  },
  {
   "cell_type": "markdown",
   "metadata": {},
   "source": [
    "### Soal 3.e (3 poin)\n",
    "\n",
    "Gambarkan plot yang menunjukkan peluang tidak ada server yang *crash* seiring dengan penambahan jumlahnya, i.e. peluang saat hanya 1 server, 2 server, 3 server, ..., 100 server."
   ]
  },
  {
   "cell_type": "code",
   "execution_count": null,
   "metadata": {},
   "outputs": [],
   "source": [
    "# Jawaban Anda di sini\n",
    "plt.xlabel('jumlah server')\n",
    "plt.ylabel('$p(...)$');"
   ]
  }
 ],
 "metadata": {
  "kernelspec": {
   "display_name": "Python 3",
   "language": "python",
   "name": "python3"
  },
  "language_info": {
   "codemirror_mode": {
    "name": "ipython",
    "version": 3
   },
   "file_extension": ".py",
   "mimetype": "text/x-python",
   "name": "python",
   "nbconvert_exporter": "python",
   "pygments_lexer": "ipython3",
   "version": "3.6.7"
  }
 },
 "nbformat": 4,
 "nbformat_minor": 2
}
